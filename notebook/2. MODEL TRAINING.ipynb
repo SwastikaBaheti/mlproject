{
 "cells": [
  {
   "cell_type": "code",
   "execution_count": 21,
   "id": "a1ff6c9e",
   "metadata": {},
   "outputs": [],
   "source": [
    "import numpy as np\n",
    "import pandas as pd\n",
    "import matplotlib.pyplot as plt\n",
    "import seaborn as sns\n",
    "import warnings\n",
    "warnings.filterwarnings('ignore')\n",
    "\n",
    "from sklearn.model_selection import train_test_split, RandomizedSearchCV\n",
    "from sklearn.preprocessing import StandardScaler\n",
    "from sklearn.linear_model import LinearRegression, Ridge, Lasso\n",
    "from sklearn.svm import SVR\n",
    "from sklearn.metrics import r2_score, mean_squared_error, mean_absolute_error\n",
    "from sklearn.neighbors import KNeighborsRegressor\n",
    "from sklearn.tree import DecisionTreeRegressor\n",
    "from sklearn.ensemble import RandomForestRegressor, GradientBoostingRegressor, AdaBoostRegressor\n",
    "from xgboost import XGBRegressor"
   ]
  },
  {
   "cell_type": "code",
   "execution_count": 11,
   "id": "59913133",
   "metadata": {},
   "outputs": [],
   "source": [
    "df = pd.read_csv('./data/stud.csv')"
   ]
  },
  {
   "cell_type": "code",
   "execution_count": 12,
   "id": "d0b82b35",
   "metadata": {},
   "outputs": [
    {
     "data": {
      "text/html": [
       "<div>\n",
       "<style scoped>\n",
       "    .dataframe tbody tr th:only-of-type {\n",
       "        vertical-align: middle;\n",
       "    }\n",
       "\n",
       "    .dataframe tbody tr th {\n",
       "        vertical-align: top;\n",
       "    }\n",
       "\n",
       "    .dataframe thead th {\n",
       "        text-align: right;\n",
       "    }\n",
       "</style>\n",
       "<table border=\"1\" class=\"dataframe\">\n",
       "  <thead>\n",
       "    <tr style=\"text-align: right;\">\n",
       "      <th></th>\n",
       "      <th>gender</th>\n",
       "      <th>race_ethnicity</th>\n",
       "      <th>parental_level_of_education</th>\n",
       "      <th>lunch</th>\n",
       "      <th>test_preparation_course</th>\n",
       "      <th>math_score</th>\n",
       "      <th>reading_score</th>\n",
       "      <th>writing_score</th>\n",
       "    </tr>\n",
       "  </thead>\n",
       "  <tbody>\n",
       "    <tr>\n",
       "      <th>0</th>\n",
       "      <td>female</td>\n",
       "      <td>group B</td>\n",
       "      <td>bachelor's degree</td>\n",
       "      <td>standard</td>\n",
       "      <td>none</td>\n",
       "      <td>72</td>\n",
       "      <td>72</td>\n",
       "      <td>74</td>\n",
       "    </tr>\n",
       "    <tr>\n",
       "      <th>1</th>\n",
       "      <td>female</td>\n",
       "      <td>group C</td>\n",
       "      <td>some college</td>\n",
       "      <td>standard</td>\n",
       "      <td>completed</td>\n",
       "      <td>69</td>\n",
       "      <td>90</td>\n",
       "      <td>88</td>\n",
       "    </tr>\n",
       "    <tr>\n",
       "      <th>2</th>\n",
       "      <td>female</td>\n",
       "      <td>group B</td>\n",
       "      <td>master's degree</td>\n",
       "      <td>standard</td>\n",
       "      <td>none</td>\n",
       "      <td>90</td>\n",
       "      <td>95</td>\n",
       "      <td>93</td>\n",
       "    </tr>\n",
       "    <tr>\n",
       "      <th>3</th>\n",
       "      <td>male</td>\n",
       "      <td>group A</td>\n",
       "      <td>associate's degree</td>\n",
       "      <td>free/reduced</td>\n",
       "      <td>none</td>\n",
       "      <td>47</td>\n",
       "      <td>57</td>\n",
       "      <td>44</td>\n",
       "    </tr>\n",
       "    <tr>\n",
       "      <th>4</th>\n",
       "      <td>male</td>\n",
       "      <td>group C</td>\n",
       "      <td>some college</td>\n",
       "      <td>standard</td>\n",
       "      <td>none</td>\n",
       "      <td>76</td>\n",
       "      <td>78</td>\n",
       "      <td>75</td>\n",
       "    </tr>\n",
       "  </tbody>\n",
       "</table>\n",
       "</div>"
      ],
      "text/plain": [
       "   gender race_ethnicity parental_level_of_education         lunch  \\\n",
       "0  female        group B           bachelor's degree      standard   \n",
       "1  female        group C                some college      standard   \n",
       "2  female        group B             master's degree      standard   \n",
       "3    male        group A          associate's degree  free/reduced   \n",
       "4    male        group C                some college      standard   \n",
       "\n",
       "  test_preparation_course  math_score  reading_score  writing_score  \n",
       "0                    none          72             72             74  \n",
       "1               completed          69             90             88  \n",
       "2                    none          90             95             93  \n",
       "3                    none          47             57             44  \n",
       "4                    none          76             78             75  "
      ]
     },
     "execution_count": 12,
     "metadata": {},
     "output_type": "execute_result"
    }
   ],
   "source": [
    "df.head()"
   ]
  },
  {
   "cell_type": "code",
   "execution_count": 13,
   "id": "4cc0af51",
   "metadata": {},
   "outputs": [],
   "source": [
    "# Independent and dependent features\n",
    "X = df.drop(columns=['math_score'], axis=1)\n",
    "y = df['math_score']"
   ]
  },
  {
   "cell_type": "code",
   "execution_count": 14,
   "id": "bf7bf58f",
   "metadata": {},
   "outputs": [
    {
     "data": {
      "text/html": [
       "<div>\n",
       "<style scoped>\n",
       "    .dataframe tbody tr th:only-of-type {\n",
       "        vertical-align: middle;\n",
       "    }\n",
       "\n",
       "    .dataframe tbody tr th {\n",
       "        vertical-align: top;\n",
       "    }\n",
       "\n",
       "    .dataframe thead th {\n",
       "        text-align: right;\n",
       "    }\n",
       "</style>\n",
       "<table border=\"1\" class=\"dataframe\">\n",
       "  <thead>\n",
       "    <tr style=\"text-align: right;\">\n",
       "      <th></th>\n",
       "      <th>gender</th>\n",
       "      <th>race_ethnicity</th>\n",
       "      <th>parental_level_of_education</th>\n",
       "      <th>lunch</th>\n",
       "      <th>test_preparation_course</th>\n",
       "      <th>reading_score</th>\n",
       "      <th>writing_score</th>\n",
       "    </tr>\n",
       "  </thead>\n",
       "  <tbody>\n",
       "    <tr>\n",
       "      <th>0</th>\n",
       "      <td>female</td>\n",
       "      <td>group B</td>\n",
       "      <td>bachelor's degree</td>\n",
       "      <td>standard</td>\n",
       "      <td>none</td>\n",
       "      <td>72</td>\n",
       "      <td>74</td>\n",
       "    </tr>\n",
       "    <tr>\n",
       "      <th>1</th>\n",
       "      <td>female</td>\n",
       "      <td>group C</td>\n",
       "      <td>some college</td>\n",
       "      <td>standard</td>\n",
       "      <td>completed</td>\n",
       "      <td>90</td>\n",
       "      <td>88</td>\n",
       "    </tr>\n",
       "    <tr>\n",
       "      <th>2</th>\n",
       "      <td>female</td>\n",
       "      <td>group B</td>\n",
       "      <td>master's degree</td>\n",
       "      <td>standard</td>\n",
       "      <td>none</td>\n",
       "      <td>95</td>\n",
       "      <td>93</td>\n",
       "    </tr>\n",
       "    <tr>\n",
       "      <th>3</th>\n",
       "      <td>male</td>\n",
       "      <td>group A</td>\n",
       "      <td>associate's degree</td>\n",
       "      <td>free/reduced</td>\n",
       "      <td>none</td>\n",
       "      <td>57</td>\n",
       "      <td>44</td>\n",
       "    </tr>\n",
       "    <tr>\n",
       "      <th>4</th>\n",
       "      <td>male</td>\n",
       "      <td>group C</td>\n",
       "      <td>some college</td>\n",
       "      <td>standard</td>\n",
       "      <td>none</td>\n",
       "      <td>78</td>\n",
       "      <td>75</td>\n",
       "    </tr>\n",
       "  </tbody>\n",
       "</table>\n",
       "</div>"
      ],
      "text/plain": [
       "   gender race_ethnicity parental_level_of_education         lunch  \\\n",
       "0  female        group B           bachelor's degree      standard   \n",
       "1  female        group C                some college      standard   \n",
       "2  female        group B             master's degree      standard   \n",
       "3    male        group A          associate's degree  free/reduced   \n",
       "4    male        group C                some college      standard   \n",
       "\n",
       "  test_preparation_course  reading_score  writing_score  \n",
       "0                    none             72             74  \n",
       "1               completed             90             88  \n",
       "2                    none             95             93  \n",
       "3                    none             57             44  \n",
       "4                    none             78             75  "
      ]
     },
     "execution_count": 14,
     "metadata": {},
     "output_type": "execute_result"
    }
   ],
   "source": [
    "X.head()"
   ]
  },
  {
   "cell_type": "code",
   "execution_count": 15,
   "id": "d7855a03",
   "metadata": {},
   "outputs": [
    {
     "data": {
      "text/plain": [
       "0    72\n",
       "1    69\n",
       "2    90\n",
       "3    47\n",
       "4    76\n",
       "Name: math_score, dtype: int64"
      ]
     },
     "execution_count": 15,
     "metadata": {},
     "output_type": "execute_result"
    }
   ],
   "source": [
    "y.head()"
   ]
  },
  {
   "cell_type": "code",
   "execution_count": 16,
   "id": "bb3ff07a",
   "metadata": {},
   "outputs": [],
   "source": [
    "# Column Transformer\n",
    "num_features = X.select_dtypes(exclude='object').columns\n",
    "cat_features = X.select_dtypes(include='object').columns\n",
    "\n",
    "from sklearn.compose import ColumnTransformer\n",
    "from sklearn.preprocessing import OneHotEncoder\n",
    "\n",
    "oh_encoder = OneHotEncoder()\n",
    "std_scaler = StandardScaler()\n",
    "\n",
    "col_transformer = ColumnTransformer([\n",
    "    (\"OneHotEncoder\", oh_encoder, cat_features),\n",
    "    (\"StandardScaler\", std_scaler, num_features)\n",
    "])"
   ]
  },
  {
   "cell_type": "code",
   "execution_count": 17,
   "id": "d9438387",
   "metadata": {},
   "outputs": [],
   "source": [
    "X = col_transformer.fit_transform(X)"
   ]
  },
  {
   "cell_type": "code",
   "execution_count": 18,
   "id": "ad50d314",
   "metadata": {},
   "outputs": [
    {
     "data": {
      "text/plain": [
       "((800, 19), (200, 19))"
      ]
     },
     "execution_count": 18,
     "metadata": {},
     "output_type": "execute_result"
    }
   ],
   "source": [
    "# Train test split\n",
    "X_train, X_test, y_train, y_test = train_test_split(X, y, test_size=0.2, random_state=42)\n",
    "X_train.shape, X_test.shape"
   ]
  },
  {
   "cell_type": "code",
   "execution_count": 20,
   "id": "d7b69834",
   "metadata": {},
   "outputs": [],
   "source": [
    "# Model evaluation\n",
    "def evaluate_model(true, pred):\n",
    "    mse = mean_squared_error(true, pred)\n",
    "    mae = mean_absolute_error(true, pred)\n",
    "    rmse = np.sqrt(mse)\n",
    "    score = r2_score(true, pred)\n",
    "    return mae, rmse, score"
   ]
  },
  {
   "cell_type": "code",
   "execution_count": 22,
   "id": "1db8c582",
   "metadata": {},
   "outputs": [],
   "source": [
    "models = {\n",
    "    \"Linear Regressor\": LinearRegression(),\n",
    "    \"Ridge Regressor\": Ridge(),\n",
    "    \"Lasso Regressor\": Lasso(),\n",
    "    \"SVM Regressor\": SVR(),\n",
    "    \"Decision Tree Regressor\": DecisionTreeRegressor(),\n",
    "    \"KNN Regressor\": KNeighborsRegressor(),\n",
    "    \"RandomForest Regressor\": RandomForestRegressor(),\n",
    "    \"Adaboost Regressor\": AdaBoostRegressor(),\n",
    "    \"GradientBoost Regressor\": GradientBoostingRegressor(),\n",
    "    \"XGBoost Regressor\": XGBRegressor()\n",
    "}"
   ]
  },
  {
   "cell_type": "code",
   "execution_count": 23,
   "id": "4bd6f45a",
   "metadata": {},
   "outputs": [],
   "source": [
    "model_score = dict()"
   ]
  },
  {
   "cell_type": "code",
   "execution_count": 29,
   "id": "5b940ac9",
   "metadata": {},
   "outputs": [
    {
     "name": "stdout",
     "output_type": "stream",
     "text": [
      "Linear Regressor\n",
      "---------------\n",
      "Training Results\n",
      "Mean Absolute Error: 4.271484375\n",
      "Root Mean Square Error: 5.329287354885032\n",
      "R2 score: 0.8740\n",
      "---------------\n",
      "Test Results\n",
      "Mean Absolute Error: 4.271484375\n",
      "Root Mean Square Error: 5.329287354885032\n",
      "R2 score: 0.8790\n",
      "===============\n",
      "Ridge Regressor\n",
      "---------------\n",
      "Training Results\n",
      "Mean Absolute Error: 4.264987823725981\n",
      "Root Mean Square Error: 5.323324922741654\n",
      "R2 score: 0.8743\n",
      "---------------\n",
      "Test Results\n",
      "Mean Absolute Error: 4.264987823725981\n",
      "Root Mean Square Error: 5.323324922741654\n",
      "R2 score: 0.8806\n",
      "===============\n",
      "Lasso Regressor\n",
      "---------------\n",
      "Training Results\n",
      "Mean Absolute Error: 5.206302661246526\n",
      "Root Mean Square Error: 6.593815587795565\n",
      "R2 score: 0.8071\n",
      "---------------\n",
      "Test Results\n",
      "Mean Absolute Error: 5.206302661246526\n",
      "Root Mean Square Error: 6.593815587795565\n",
      "R2 score: 0.8253\n",
      "===============\n",
      "SVM Regressor\n",
      "---------------\n",
      "Training Results\n",
      "Mean Absolute Error: 4.869189452384867\n",
      "Root Mean Square Error: 6.57700724251018\n",
      "R2 score: 0.8081\n",
      "---------------\n",
      "Test Results\n",
      "Mean Absolute Error: 4.869189452384867\n",
      "Root Mean Square Error: 6.57700724251018\n",
      "R2 score: 0.7286\n",
      "===============\n",
      "Decision Tree Regressor\n",
      "---------------\n",
      "Training Results\n",
      "Mean Absolute Error: 0.01875\n",
      "Root Mean Square Error: 0.2795084971874737\n",
      "R2 score: 0.9997\n",
      "---------------\n",
      "Test Results\n",
      "Mean Absolute Error: 0.01875\n",
      "Root Mean Square Error: 0.2795084971874737\n",
      "R2 score: 0.7349\n",
      "===============\n",
      "KNN Regressor\n",
      "---------------\n",
      "Training Results\n",
      "Mean Absolute Error: 4.51675\n",
      "Root Mean Square Error: 5.707884897227694\n",
      "R2 score: 0.8555\n",
      "---------------\n",
      "Test Results\n",
      "Mean Absolute Error: 4.51675\n",
      "Root Mean Square Error: 5.707884897227694\n",
      "R2 score: 0.7838\n",
      "===============\n",
      "RandomForest Regressor\n",
      "---------------\n",
      "Training Results\n",
      "Mean Absolute Error: 1.8393175595238092\n",
      "Root Mean Square Error: 2.328839803117767\n",
      "R2 score: 0.9759\n",
      "---------------\n",
      "Test Results\n",
      "Mean Absolute Error: 1.8393175595238092\n",
      "Root Mean Square Error: 2.328839803117767\n",
      "R2 score: 0.8509\n",
      "===============\n",
      "Adaboost Regressor\n",
      "---------------\n",
      "Training Results\n",
      "Mean Absolute Error: 4.787124038452677\n",
      "Root Mean Square Error: 5.8502868033875695\n",
      "R2 score: 0.8482\n",
      "---------------\n",
      "Test Results\n",
      "Mean Absolute Error: 4.787124038452677\n",
      "Root Mean Square Error: 5.8502868033875695\n",
      "R2 score: 0.8456\n",
      "===============\n",
      "GradientBoost Regressor\n",
      "---------------\n",
      "Training Results\n",
      "Mean Absolute Error: 3.722632404265114\n",
      "Root Mean Square Error: 4.626939477050936\n",
      "R2 score: 0.9050\n",
      "---------------\n",
      "Test Results\n",
      "Mean Absolute Error: 3.722632404265114\n",
      "Root Mean Square Error: 4.626939477050936\n",
      "R2 score: 0.8722\n",
      "===============\n",
      "XGBoost Regressor\n",
      "---------------\n",
      "Training Results\n",
      "Mean Absolute Error: 0.6874666035175323\n",
      "Root Mean Square Error: 1.0072816866027385\n",
      "R2 score: 0.9955\n",
      "---------------\n",
      "Test Results\n",
      "Mean Absolute Error: 0.6874666035175323\n",
      "Root Mean Square Error: 1.0072816866027385\n",
      "R2 score: 0.8278\n",
      "===============\n"
     ]
    }
   ],
   "source": [
    "for i in range(0, len(models)):\n",
    "    model_name = list(models.keys())[i]\n",
    "    model = list(models.values())[i]\n",
    "\n",
    "    # Model Training\n",
    "    model.fit(X_train, y_train)\n",
    "\n",
    "    # Model Prediction\n",
    "    y_pred_train = model.predict(X_train)\n",
    "    y_pred_test = model.predict(X_test)\n",
    "\n",
    "    # Model Evaluation\n",
    "    mae_train, rmse_train, score_train = evaluate_model(y_train, y_pred_train)\n",
    "    mae_test, rmse_test, score_test = evaluate_model(y_test, y_pred_test)\n",
    "\n",
    "    # Printing the results\n",
    "    print(model_name)\n",
    "    print('-'*15)\n",
    "    print('Training Results')\n",
    "    print('Mean Absolute Error:', mae_train)\n",
    "    print('Root Mean Square Error:', rmse_train)\n",
    "    print('R2 score: {:.4f}'.format(score_train))\n",
    "    print('-'*15)\n",
    "    print('Test Results')\n",
    "    print('Mean Absolute Error:', mae_train)\n",
    "    print('Root Mean Square Error:', rmse_train)\n",
    "    print('R2 score: {:.4f}'.format(score_test))\n",
    "    print('='*15)\n",
    "\n",
    "    # Storing the results\n",
    "    model_score[model_name] = score_test"
   ]
  },
  {
   "cell_type": "code",
   "execution_count": 30,
   "id": "e296c664",
   "metadata": {},
   "outputs": [
    {
     "data": {
      "text/plain": [
       "{'Linear Regressor': 0.8790464771743793,\n",
       " 'Ridge Regressor': 0.8805931485028738,\n",
       " 'Lasso Regressor': 0.8253197323627853,\n",
       " 'SVM Regressor': 0.7286001513223704,\n",
       " 'Decision Tree Regressor': 0.7349164784514075,\n",
       " 'KNN Regressor': 0.7838129945787431,\n",
       " 'RandomForest Regressor': 0.8509242413157576,\n",
       " 'Adaboost Regressor': 0.8455677015011235,\n",
       " 'GradientBoost Regressor': 0.8721874230820342,\n",
       " 'XGBoost Regressor': 0.8277965653186071}"
      ]
     },
     "execution_count": 30,
     "metadata": {},
     "output_type": "execute_result"
    }
   ],
   "source": [
    "model_score"
   ]
  },
  {
   "cell_type": "markdown",
   "id": "aa4f95fb",
   "metadata": {},
   "source": [
    "Model: Linear Regression"
   ]
  },
  {
   "cell_type": "code",
   "execution_count": 34,
   "id": "fc801f82",
   "metadata": {},
   "outputs": [
    {
     "name": "stdout",
     "output_type": "stream",
     "text": [
      "Accuracy: 87.90%\n"
     ]
    }
   ],
   "source": [
    "# Applying Linear Regression\n",
    "\n",
    "lin_reg = LinearRegression(n_jobs=-1)\n",
    "lin_reg.fit(X_train, y_train)\n",
    "y_pred = lin_reg.predict(X_test)\n",
    "accuracy = r2_score(y_test, y_pred)\n",
    "print('Accuracy: {:.2f}%'.format(accuracy*100))"
   ]
  },
  {
   "cell_type": "code",
   "execution_count": 36,
   "id": "79dad2f3",
   "metadata": {},
   "outputs": [
    {
     "data": {
      "text/plain": [
       "<Axes: xlabel='math_score'>"
      ]
     },
     "execution_count": 36,
     "metadata": {},
     "output_type": "execute_result"
    },
    {
     "data": {
      "image/png": "[encoded data removed]",
      "text/plain": [
       "<Figure size 640x480 with 1 Axes>"
      ]
     },
     "metadata": {},
     "output_type": "display_data"
    }
   ],
   "source": [
    "sns.scatterplot(x=y_test, y=y_pred)"
   ]
  },
  {
   "cell_type": "code",
   "execution_count": 37,
   "id": "6cbf6ca7",
   "metadata": {},
   "outputs": [
    {
     "data": {
      "text/plain": [
       "<Axes: xlabel='math_score'>"
      ]
     },
     "execution_count": 37,
     "metadata": {},
     "output_type": "execute_result"
    },
    {
     "data": {
      "image/png": "[encoded data removed]",
      "text/plain": [
       "<Figure size 640x480 with 1 Axes>"
      ]
     },
     "metadata": {},
     "output_type": "display_data"
    }
   ],
   "source": [
    "sns.regplot(x=y_test, y=y_pred, color='r')"
   ]
  }
 ],
 "metadata": {
  "kernelspec": {
   "display_name": "Python 3",
   "language": "python",
   "name": "python3"
  },
  "language_info": {
   "codemirror_mode": {
    "name": "ipython",
    "version": 3
   },
   "file_extension": ".py",
   "mimetype": "text/x-python",
   "name": "python",
   "nbconvert_exporter": "python",
   "pygments_lexer": "ipython3",
   "version": "3.8.0"
  }
 },
 "nbformat": 4,
 "nbformat_minor": 5
}
